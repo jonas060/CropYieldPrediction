{
 "cells": [
  {
   "cell_type": "markdown",
   "metadata": {
    "id": "7FpN9p-W8v0A"
   },
   "source": [
    "# Getting Started"
   ]
  },
  {
   "cell_type": "markdown",
   "metadata": {
    "id": "Fjv-nog08iRd"
   },
   "source": [
    "## Install Libraries"
   ]
  },
  {
   "cell_type": "code",
   "execution_count": 38,
   "metadata": {
    "colab": {
     "base_uri": "https://localhost:8080/"
    },
    "executionInfo": {
     "elapsed": 3145,
     "status": "ok",
     "timestamp": 1734220247484,
     "user": {
      "displayName": "Alex Jonas",
      "userId": "01611876898789942912"
     },
     "user_tz": 360
    },
    "id": "AEPHhaH58aBl",
    "outputId": "39affd51-aef8-4324-92d5-3ee93210f559"
   },
   "outputs": [
    {
     "name": "stdout",
     "output_type": "stream",
     "text": [
      "Requirement already satisfied: fire in /usr/local/lib/python3.10/dist-packages (0.7.0)\n",
      "Requirement already satisfied: termcolor in /usr/local/lib/python3.10/dist-packages (from fire) (2.5.0)\n"
     ]
    }
   ],
   "source": [
    "!pip install fire"
   ]
  },
  {
   "cell_type": "code",
   "execution_count": 39,
   "metadata": {
    "executionInfo": {
     "elapsed": 1678,
     "status": "ok",
     "timestamp": 1734220249159,
     "user": {
      "displayName": "Alex Jonas",
      "userId": "01611876898789942912"
     },
     "user_tz": 360
    },
    "id": "NbCp7huI5og5"
   },
   "outputs": [],
   "source": [
    "from google.colab import auth\n",
    "auth.authenticate_user(project_id='csci8953')\n",
    "\n",
    "import pandas\n",
    "import numpy\n",
    "from osgeo import gdal #for command line tools: !apt install gdal-bin\n",
    "import matplotlib\n",
    "import scipy\n",
    "import tqdm\n",
    "import fire\n",
    "import torch\n",
    "from google.colab import drive\n",
    "import os\n",
    "from pathlib import Path\n",
    "\n",
    "# Specify the path you want to check\n",
    "PATH_PYTHON = '/content/drive/MyDrive/CSCI-8523-AI-For-Earth-Group-Folder/PythonFiles/'\n",
    "PATH_DATA = '/content/drive/MyDrive/CSCI-8523-AI-For-Earth-Group-Folder/Data/'\n",
    "PATH_PROJECT = '/content/drive/MyDrive/CSCI-8523-AI-For-Earth-Group-Folder/'\n",
    "PATH_YIELD_DATA = '/content/drive/MyDrive/CSCI-8523-AI-For-Earth-Group-Folder/Data/USDA/yield_data.csv'"
   ]
  },
  {
   "cell_type": "markdown",
   "metadata": {
    "id": "A9Ut9hMGBEs1"
   },
   "source": [
    "## Determine file-path for exporting data from Earth Engine."
   ]
  },
  {
   "cell_type": "code",
   "execution_count": 40,
   "metadata": {
    "colab": {
     "base_uri": "https://localhost:8080/"
    },
    "executionInfo": {
     "elapsed": 782,
     "status": "ok",
     "timestamp": 1734220249939,
     "user": {
      "displayName": "Alex Jonas",
      "userId": "01611876898789942912"
     },
     "user_tz": 360
    },
    "id": "dC7l4XcqBCQ9",
    "outputId": "597216e5-7026-4753-c326-2ae6423019de"
   },
   "outputs": [
    {
     "name": "stdout",
     "output_type": "stream",
     "text": [
      "Drive already mounted at /content/drive; to attempt to forcibly remount, call drive.mount(\"/content/drive\", force_remount=True).\n"
     ]
    }
   ],
   "source": [
    "drive.mount('/content/drive')"
   ]
  },
  {
   "cell_type": "code",
   "execution_count": 41,
   "metadata": {
    "colab": {
     "base_uri": "https://localhost:8080/"
    },
    "executionInfo": {
     "elapsed": 3,
     "status": "ok",
     "timestamp": 1734220249939,
     "user": {
      "displayName": "Alex Jonas",
      "userId": "01611876898789942912"
     },
     "user_tz": 360
    },
    "id": "_Lbn6y70BbOw",
    "outputId": "556426ce-7ade-4201-b8c5-19952b13dc1b"
   },
   "outputs": [
    {
     "name": "stdout",
     "output_type": "stream",
     "text": [
      "['cyp']\n"
     ]
    }
   ],
   "source": [
    "# List folders in the specified path\n",
    "folders = [f for f in os.listdir(PATH_PYTHON) if os.path.isdir(os.path.join(PATH_PYTHON, f))]\n",
    "print(folders)"
   ]
  },
  {
   "cell_type": "code",
   "execution_count": 42,
   "metadata": {
    "colab": {
     "base_uri": "https://localhost:8080/"
    },
    "executionInfo": {
     "elapsed": 2,
     "status": "ok",
     "timestamp": 1734220249939,
     "user": {
      "displayName": "Alex Jonas",
      "userId": "01611876898789942912"
     },
     "user_tz": 360
    },
    "id": "Qkzx4ESzFva5",
    "outputId": "105e7494-c6ec-42e7-98d3-ec2358c0ed2a"
   },
   "outputs": [
    {
     "name": "stdout",
     "output_type": "stream",
     "text": [
      "Current Directory: /content/drive/.shortcut-targets-by-id/11g4MHwwyePEqWkjhQqw7esTFupZe7lgt/CSCI-8523-AI-For-Earth-Group-Folder\n"
     ]
    }
   ],
   "source": [
    "# Change the current working directory to your folder\n",
    "os.chdir(PATH_PROJECT)\n",
    "\n",
    "# Confirm the current working directory\n",
    "print(\"Current Directory:\", os.getcwd())"
   ]
  },
  {
   "cell_type": "markdown",
   "metadata": {
    "id": "L9gI937a6ne_"
   },
   "source": [
    "## Check to ensure Earth Engine API is functioning correctly."
   ]
  },
  {
   "cell_type": "code",
   "execution_count": 43,
   "metadata": {
    "executionInfo": {
     "elapsed": 1316,
     "status": "ok",
     "timestamp": 1734220251253,
     "user": {
      "displayName": "Alex Jonas",
      "userId": "01611876898789942912"
     },
     "user_tz": 360
    },
    "id": "LEdHjyhD59DD"
   },
   "outputs": [],
   "source": [
    "import ee\n",
    "ee.Authenticate()\n",
    "ee.Initialize()"
   ]
  },
  {
   "cell_type": "markdown",
   "metadata": {
    "id": "bXBHGUmUGng-"
   },
   "source": [
    "#Export the Data"
   ]
  },
  {
   "cell_type": "code",
   "execution_count": 44,
   "metadata": {
    "colab": {
     "base_uri": "https://localhost:8080/"
    },
    "executionInfo": {
     "elapsed": 164,
     "status": "ok",
     "timestamp": 1734220275288,
     "user": {
      "displayName": "Alex Jonas",
      "userId": "01611876898789942912"
     },
     "user_tz": 360
    },
    "id": "GRlet0GLGra3",
    "outputId": "78e69c87-87b4-4d47-8f0b-8d5bdbb0664f"
   },
   "outputs": [
    {
     "name": "stdout",
     "output_type": "stream",
     "text": [
      "/content/drive/MyDrive/CSCI-8523-Data\n"
     ]
    }
   ],
   "source": [
    "#%cd /content/drive/MyDrive/CSCI-8523-AI-For-Earth-Group-Folder/PythonFiles/\n",
    "%cd /content/drive/MyDrive/CSCI-8523-Data/"
   ]
  },
  {
   "cell_type": "code",
   "execution_count": 45,
   "metadata": {
    "colab": {
     "base_uri": "https://localhost:8080/",
     "height": 36
    },
    "executionInfo": {
     "elapsed": 122,
     "status": "ok",
     "timestamp": 1734220276611,
     "user": {
      "displayName": "Alex Jonas",
      "userId": "01611876898789942912"
     },
     "user_tz": 360
    },
    "id": "xgzfHlnNHSbr",
    "outputId": "cc855c39-043b-4dd1-a39b-5748883769ef"
   },
   "outputs": [
    {
     "data": {
      "application/vnd.google.colaboratory.intrinsic+json": {
       "type": "string"
      },
      "text/plain": [
       "'/content/drive/MyDrive/CSCI-8523-Data'"
      ]
     },
     "execution_count": 45,
     "metadata": {},
     "output_type": "execute_result"
    }
   ],
   "source": [
    "%pwd"
   ]
  },
  {
   "cell_type": "code",
   "execution_count": 46,
   "metadata": {
    "colab": {
     "base_uri": "https://localhost:8080/"
    },
    "executionInfo": {
     "elapsed": 126,
     "status": "ok",
     "timestamp": 1734220277731,
     "user": {
      "displayName": "Alex Jonas",
      "userId": "01611876898789942912"
     },
     "user_tz": 360
    },
    "id": "tXh8x2HmG0bK",
    "outputId": "278f415a-4849-42fd-f429-6a188b8ef1f9"
   },
   "outputs": [
    {
     "name": "stdout",
     "output_type": "stream",
     "text": [
      "['cyp']\n"
     ]
    }
   ],
   "source": [
    "folders = [f for f in os.listdir(PATH_PYTHON) if os.path.isdir(os.path.join(PATH_PYTHON, f))]\n",
    "print(folders)"
   ]
  },
  {
   "cell_type": "markdown",
   "metadata": {
    "id": "DuZ8IYTHUwge"
   },
   "source": [
    "Currently trying to determine how we can export files to specific folder in Google Drive.\n",
    "\n",
    "Update: Solved! Was using a deprecated version of MODIS dataset. I.e. \"MODIS/MOD09A1\" when I should have used \"MODIS/061/MOD09A1\"."
   ]
  },
  {
   "cell_type": "markdown",
   "metadata": {},
   "source": [
    "## Export Data"
   ]
  },
  {
   "cell_type": "code",
   "execution_count": null,
   "metadata": {},
   "outputs": [],
   "source": [
    "!python run.py export"
   ]
  },
  {
   "cell_type": "markdown",
   "metadata": {},
   "source": [
    "## Preprocess Data"
   ]
  },
  {
   "cell_type": "code",
   "execution_count": null,
   "metadata": {},
   "outputs": [],
   "source": [
    "!python run.py process"
   ]
  },
  {
   "cell_type": "markdown",
   "metadata": {},
   "source": [
    "## Feature Engineering"
   ]
  },
  {
   "cell_type": "code",
   "execution_count": null,
   "metadata": {},
   "outputs": [],
   "source": [
    "!python run.py engineer"
   ]
  },
  {
   "cell_type": "markdown",
   "metadata": {},
   "source": [
    "## Train Transformer"
   ]
  },
  {
   "cell_type": "code",
   "execution_count": null,
   "metadata": {},
   "outputs": [],
   "source": [
    "!python run.py train_transformer_encoder"
   ]
  },
  {
   "cell_type": "markdown",
   "metadata": {},
   "source": [
    "# Visualization"
   ]
  },
  {
   "cell_type": "code",
   "execution_count": 64,
   "metadata": {
    "executionInfo": {
     "elapsed": 155,
     "status": "ok",
     "timestamp": 1734222297667,
     "user": {
      "displayName": "Alex Jonas",
      "userId": "01611876898789942912"
     },
     "user_tz": 360
    },
    "id": "PJq1EwSilmFe"
   },
   "outputs": [],
   "source": [
    "import torch\n",
    "from bs4 import BeautifulSoup\n",
    "from pathlib import Path\n",
    "import matplotlib as mpl\n",
    "import matplotlib.pyplot as plt\n",
    "\n",
    "\n",
    "def plot_county_errors(model, svg_file, save_colorbar=True):\n",
    "    \"\"\"\n",
    "    For the most part, reformatting of\n",
    "    https://github.com/JiaxuanYou/crop_yield_prediction/blob/master/6%20result_analysis/yield_map.py\n",
    "\n",
    "    Generates an svg of the counties, coloured by their prediction error.\n",
    "\n",
    "    Parameters\n",
    "    ----------\n",
    "    model: pathlib Path\n",
    "        Path to the model being plotted.\n",
    "    svg_file: pathlib Path, default=Path('data/counties.svg')\n",
    "        Path to the counties svg file used as a base\n",
    "    save_colorbar: boolean, default=True\n",
    "        Whether to save a colorbar too.\n",
    "    \"\"\"\n",
    "\n",
    "    model_sd = torch.load(model, map_location=\"cpu\")\n",
    "\n",
    "    print(model.parents)\n",
    "\n",
    "    model_dir = model.parents[0]\n",
    "\n",
    "    real_values = model_sd[\"test_real\"]\n",
    "    pred_values = model_sd[\"test_pred\"]\n",
    "\n",
    "    gp = True\n",
    "    try:\n",
    "        gp_values = model_sd[\"test_pred_gp\"]\n",
    "    except KeyError:\n",
    "        gp = False\n",
    "\n",
    "    indices = model_sd[\"test_indices\"]\n",
    "\n",
    "    pred_err = pred_values - real_values\n",
    "    pred_dict = {}\n",
    "    for idx, err in zip(indices, pred_err):\n",
    "        state, county = idx\n",
    "\n",
    "        state = str(state).zfill(2)\n",
    "        county = str(county).zfill(3)\n",
    "\n",
    "        pred_dict[state + county] = err\n",
    "\n",
    "    model_info = model.name[:-8].split(\"_\")\n",
    "\n",
    "    colors = [\n",
    "        \"#b2182b\",\n",
    "        \"#d6604d\",\n",
    "        \"#f4a582\",\n",
    "        \"#fddbc7\",\n",
    "        \"#d1e5f0\",\n",
    "        \"#92c5de\",\n",
    "        \"#4393c3\",\n",
    "        \"#2166ac\",\n",
    "    ]\n",
    "\n",
    "    _single_plot(\n",
    "        pred_dict, svg_file, model_dir / f\"{model_info[0]}_{model_info[1]}.svg\", colors\n",
    "    )\n",
    "\n",
    "    if gp:\n",
    "        gp_pred_err = gp_values - real_values\n",
    "        gp_dict = {}\n",
    "        for idx, err in zip(indices, gp_pred_err):\n",
    "            state, county = idx\n",
    "\n",
    "            state = str(state).zfill(2)\n",
    "            county = str(county).zfill(3)\n",
    "\n",
    "            gp_dict[state + county] = err\n",
    "\n",
    "    _single_plot(\n",
    "        gp_dict, svg_file, model_dir / f\"{model_info[0]}_{model_info[1]}_gp.svg\", colors\n",
    "    )\n",
    "\n",
    "    if save_colorbar:\n",
    "        _save_colorbar(model_dir / \"colorbar.png\", colors)\n",
    "\n",
    "\n",
    "def _single_plot(err_dict, svg_file, savepath, colors):\n",
    "\n",
    "    # load the svg file\n",
    "    svg = svg_file.open(\"r\").read()\n",
    "    # Load into Beautiful Soup\n",
    "    soup = BeautifulSoup(svg, features=\"html.parser\")\n",
    "    # Find counties\n",
    "    paths = soup.findAll(\"path\")\n",
    "\n",
    "    path_style = (\n",
    "        \"font-size:12px;fill-rule:nonzero;stroke:#FFFFFF;stroke-opacity:1;stroke-width:0.1\"\n",
    "        \";stroke-miterlimit:4;stroke-dasharray:none;stroke-linecap:butt;marker-start\"\n",
    "        \":none;stroke-linejoin:bevel;fill:\"\n",
    "    )\n",
    "\n",
    "    for p in paths:\n",
    "        if p[\"id\"] not in [\"State_Lines\", \"separator\"]:\n",
    "            try:\n",
    "                rate = err_dict[p[\"id\"]]\n",
    "            except KeyError:\n",
    "                continue\n",
    "            if rate > 15:\n",
    "                color_class = 7\n",
    "            elif rate > 10:\n",
    "                color_class = 6\n",
    "            elif rate > 5:\n",
    "                color_class = 5\n",
    "            elif rate > 0:\n",
    "                color_class = 4\n",
    "            elif rate > -5:\n",
    "                color_class = 3\n",
    "            elif rate > -10:\n",
    "                color_class = 2\n",
    "            elif rate > -15:\n",
    "                color_class = 1\n",
    "            else:\n",
    "                color_class = 0\n",
    "\n",
    "            color = colors[color_class]\n",
    "            p[\"style\"] = path_style + color\n",
    "    soup = soup.prettify()\n",
    "    with savepath.open(\"w\") as f:\n",
    "        f.write(soup)\n",
    "\n",
    "\n",
    "def _save_colorbar(savedir, colors):\n",
    "    fig = plt.figure()\n",
    "    ax = fig.add_axes([0.1, 0.1, 0.02, 0.8])\n",
    "\n",
    "    cmap = mpl.colors.ListedColormap(colors[1:-1])\n",
    "\n",
    "    cmap.set_over(colors[-1])\n",
    "    cmap.set_under(colors[0])\n",
    "\n",
    "    bounds = [-15, -10, -5, 0, 5, 10, 15]\n",
    "\n",
    "    norm = mpl.colors.BoundaryNorm(bounds, cmap.N)\n",
    "    cb = mpl.colorbar.ColorbarBase(\n",
    "        ax,\n",
    "        cmap=cmap,\n",
    "        norm=norm,\n",
    "        # to use 'extend', you must\n",
    "        # specify two extra boundaries:\n",
    "        boundaries=[-20] + bounds + [20],\n",
    "        extend=\"both\",\n",
    "        ticks=bounds,  # optional\n",
    "        spacing=\"proportional\",\n",
    "        orientation=\"vertical\",\n",
    "    )\n",
    "    plt.savefig(savedir, dpi=300, bbox_inches=\"tight\")"
   ]
  },
  {
   "cell_type": "code",
   "execution_count": 71,
   "metadata": {
    "colab": {
     "base_uri": "https://localhost:8080/",
     "height": 349
    },
    "executionInfo": {
     "elapsed": 525,
     "status": "error",
     "timestamp": 1734222690185,
     "user": {
      "displayName": "Alex Jonas",
      "userId": "01611876898789942912"
     },
     "user_tz": 360
    },
    "id": "68WwEe6BN2kk",
    "outputId": "ba05f573-b947-4640-ec3f-bb706f5f56b0"
   },
   "outputs": [
    {
     "name": "stderr",
     "output_type": "stream",
     "text": [
      "<ipython-input-64-545adf487aea>:25: FutureWarning: You are using `torch.load` with `weights_only=False` (the current default value), which uses the default pickle module implicitly. It is possible to construct malicious pickle data which will execute arbitrary code during unpickling (See https://github.com/pytorch/pytorch/blob/main/SECURITY.md#untrusted-models for more details). In a future release, the default value for `weights_only` will be flipped to `True`. This limits the functions that could be executed during unpickling. Arbitrary objects will no longer be allowed to be loaded via this mode unless they are explicitly allowlisted by the user via `torch.serialization.add_safe_globals`. We recommend you start setting `weights_only=True` for any use case where you don't have full control of the loaded file. Please open an issue on GitHub for any issues related to this experimental feature.\n",
      "  model_sd = torch.load(model, map_location=\"cpu\")\n"
     ]
    },
    {
     "name": "stdout",
     "output_type": "stream",
     "text": [
      "<PosixPath.parents>\n"
     ]
    },
    {
     "ename": "UnboundLocalError",
     "evalue": "local variable 'gp_dict' referenced before assignment",
     "output_type": "error",
     "traceback": [
      "\u001b[0;31m---------------------------------------------------------------------------\u001b[0m",
      "\u001b[0;31mUnboundLocalError\u001b[0m                         Traceback (most recent call last)",
      "\u001b[0;32m<ipython-input-71-831c9bfb638c>\u001b[0m in \u001b[0;36m<cell line: 1>\u001b[0;34m()\u001b[0m\n\u001b[0;32m----> 1\u001b[0;31m \u001b[0mplot_county_errors\u001b[0m\u001b[0;34m(\u001b[0m\u001b[0mPath\u001b[0m\u001b[0;34m(\u001b[0m\u001b[0;34m\"/content/drive/MyDrive/CSCI-8523-Data/Data/Second Best Transformer/Transformer_2009_5_32_.pth.tar\"\u001b[0m\u001b[0;34m)\u001b[0m\u001b[0;34m,\u001b[0m \u001b[0mPath\u001b[0m\u001b[0;34m(\u001b[0m\u001b[0;34m\"/content/drive/MyDrive/CSCI-8523-Data/Data/counties.svg\"\u001b[0m\u001b[0;34m)\u001b[0m\u001b[0;34m)\u001b[0m\u001b[0;34m\u001b[0m\u001b[0;34m\u001b[0m\u001b[0m\n\u001b[0m",
      "\u001b[0;32m<ipython-input-64-545adf487aea>\u001b[0m in \u001b[0;36mplot_county_errors\u001b[0;34m(model, svg_file, save_colorbar)\u001b[0m\n\u001b[1;32m     79\u001b[0m \u001b[0;34m\u001b[0m\u001b[0m\n\u001b[1;32m     80\u001b[0m     _single_plot(\n\u001b[0;32m---> 81\u001b[0;31m         \u001b[0mgp_dict\u001b[0m\u001b[0;34m,\u001b[0m \u001b[0msvg_file\u001b[0m\u001b[0;34m,\u001b[0m \u001b[0mmodel_dir\u001b[0m \u001b[0;34m/\u001b[0m \u001b[0;34mf\"{model_info[0]}_{model_info[1]}_gp.svg\"\u001b[0m\u001b[0;34m,\u001b[0m \u001b[0mcolors\u001b[0m\u001b[0;34m\u001b[0m\u001b[0;34m\u001b[0m\u001b[0m\n\u001b[0m\u001b[1;32m     82\u001b[0m     )\n\u001b[1;32m     83\u001b[0m \u001b[0;34m\u001b[0m\u001b[0m\n",
      "\u001b[0;31mUnboundLocalError\u001b[0m: local variable 'gp_dict' referenced before assignment"
     ]
    }
   ],
   "source": [
    "plot_county_errors(Path(\"/content/drive/MyDrive/CSCI-8523-Data/Data/Second Best Transformer/Transformer_2009_5_32_.pth.tar\"), Path(\"/content/drive/MyDrive/CSCI-8523-Data/Data/counties.svg\"))"
   ]
  }
 ],
 "metadata": {
  "colab": {
   "collapsed_sections": [
    "7FpN9p-W8v0A",
    "A9Ut9hMGBEs1"
   ],
   "provenance": []
  },
  "kernelspec": {
   "display_name": "Python 3",
   "name": "python3"
  },
  "language_info": {
   "name": "python"
  }
 },
 "nbformat": 4,
 "nbformat_minor": 0
}
